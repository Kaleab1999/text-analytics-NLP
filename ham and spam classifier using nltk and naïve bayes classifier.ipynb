{
 "cells": [
  {
   "cell_type": "markdown",
   "id": "4a59c03e",
   "metadata": {},
   "source": [
    "## spam checker"
   ]
  },
  {
   "cell_type": "markdown",
   "id": "b683e31e",
   "metadata": {},
   "source": [
    "importting pandas to load our dataset"
   ]
  },
  {
   "cell_type": "code",
   "execution_count": 67,
   "id": "c79e5bb3",
   "metadata": {},
   "outputs": [],
   "source": [
    "import pandas as pd"
   ]
  },
  {
   "cell_type": "markdown",
   "id": "138897d9",
   "metadata": {},
   "source": [
    "1. loading the dataset\n",
    "2. separate the dataset by 't' or tab\n",
    "3. label the separatted data "
   ]
  },
  {
   "cell_type": "code",
   "execution_count": 68,
   "id": "dc33e50c",
   "metadata": {},
   "outputs": [
    {
     "data": {
      "text/html": [
       "<div>\n",
       "<style scoped>\n",
       "    .dataframe tbody tr th:only-of-type {\n",
       "        vertical-align: middle;\n",
       "    }\n",
       "\n",
       "    .dataframe tbody tr th {\n",
       "        vertical-align: top;\n",
       "    }\n",
       "\n",
       "    .dataframe thead th {\n",
       "        text-align: right;\n",
       "    }\n",
       "</style>\n",
       "<table border=\"1\" class=\"dataframe\">\n",
       "  <thead>\n",
       "    <tr style=\"text-align: right;\">\n",
       "      <th></th>\n",
       "      <th>label</th>\n",
       "      <th>message</th>\n",
       "    </tr>\n",
       "  </thead>\n",
       "  <tbody>\n",
       "    <tr>\n",
       "      <th>0</th>\n",
       "      <td>ham</td>\n",
       "      <td>Go until jurong point, crazy.. Available only ...</td>\n",
       "    </tr>\n",
       "    <tr>\n",
       "      <th>1</th>\n",
       "      <td>ham</td>\n",
       "      <td>Ok lar... Joking wif u oni...</td>\n",
       "    </tr>\n",
       "    <tr>\n",
       "      <th>2</th>\n",
       "      <td>spam</td>\n",
       "      <td>Free entry in 2 a wkly comp to win FA Cup fina...</td>\n",
       "    </tr>\n",
       "    <tr>\n",
       "      <th>3</th>\n",
       "      <td>ham</td>\n",
       "      <td>U dun say so early hor... U c already then say...</td>\n",
       "    </tr>\n",
       "    <tr>\n",
       "      <th>4</th>\n",
       "      <td>ham</td>\n",
       "      <td>Nah I don't think he goes to usf, he lives aro...</td>\n",
       "    </tr>\n",
       "  </tbody>\n",
       "</table>\n",
       "</div>"
      ],
      "text/plain": [
       "  label                                            message\n",
       "0   ham  Go until jurong point, crazy.. Available only ...\n",
       "1   ham                      Ok lar... Joking wif u oni...\n",
       "2  spam  Free entry in 2 a wkly comp to win FA Cup fina...\n",
       "3   ham  U dun say so early hor... U c already then say...\n",
       "4   ham  Nah I don't think he goes to usf, he lives aro..."
      ]
     },
     "execution_count": 68,
     "metadata": {},
     "output_type": "execute_result"
    }
   ],
   "source": [
    "df=pd.read_csv('ssms_spam.txt',sep='\\t',\n",
    "                           names=[\"label\", \"message\"])\n",
    "df.head()"
   ]
  },
  {
   "cell_type": "markdown",
   "id": "0e6a4f25",
   "metadata": {},
   "source": [
    "## Data cleaning"
   ]
  },
  {
   "cell_type": "code",
   "execution_count": 90,
   "id": "886efa70",
   "metadata": {},
   "outputs": [],
   "source": [
    "import re #for lowerring text, and maintaining words\n",
    "import nltk #for NLP (to perform tokenization,stop_words,stemming,lemittization,bag_of_words,TFIDF)"
   ]
  },
  {
   "cell_type": "code",
   "execution_count": 70,
   "id": "4efbcea9",
   "metadata": {},
   "outputs": [
    {
     "name": "stderr",
     "output_type": "stream",
     "text": [
      "[nltk_data] Downloading package stopwords to\n",
      "[nltk_data]     C:\\Users\\KIIT\\AppData\\Roaming\\nltk_data...\n",
      "[nltk_data]   Package stopwords is already up-to-date!\n"
     ]
    },
    {
     "data": {
      "text/plain": [
       "True"
      ]
     },
     "execution_count": 70,
     "metadata": {},
     "output_type": "execute_result"
    }
   ],
   "source": [
    "nltk.download('stopwords')"
   ]
  },
  {
   "cell_type": "code",
   "execution_count": 71,
   "id": "4dbb0cf1",
   "metadata": {},
   "outputs": [],
   "source": [
    "from nltk.corpus import stopwords # to apply stopwords\n",
    "from nltk.stem.porter import PorterStemmer #for stemming\n",
    "from nltk.stem import WordNetLemmatizer #to perform Lemmatizzation"
   ]
  },
  {
   "cell_type": "markdown",
   "id": "91eb1fb2",
   "metadata": {},
   "source": [
    "creating object for stemming and lemmatization"
   ]
  },
  {
   "cell_type": "code",
   "execution_count": 91,
   "id": "fb3be683",
   "metadata": {},
   "outputs": [],
   "source": [
    "ps = PorterStemmer()\n",
    "corpus = []\n",
    "lemmatize=WordNetLemmatizer()\n",
    "corpus2=[]"
   ]
  },
  {
   "cell_type": "code",
   "execution_count": 92,
   "id": "01730b0f",
   "metadata": {},
   "outputs": [],
   "source": [
    "for i in range(0, len(df)):\n",
    "    review2 = re.sub('[^a-zA-Z]', ' ', df['message'][i])#to remove all except letters\n",
    "    review2 = review2.lower() #lowerring the letter\n",
    "    review2 = review2.split() #tokenize\n",
    "    \n",
    "    review2 = [ps.stem(word) for word in review2 if not word in stopwords.words('english')]\n",
    "    review2 = ' '.join(review2)\n",
    "    corpus.append(review2)"
   ]
  },
  {
   "cell_type": "code",
   "execution_count": 74,
   "id": "ddee96f1",
   "metadata": {},
   "outputs": [],
   "source": [
    "for i in range(0, len(df)):\n",
    "    review = re.sub('[^a-zA-Z]', ' ', df['message'][i])#to remove all except letters\n",
    "    review = review.lower() #to change the word into lowercase\n",
    "    review = review.split()#word tokenization\n",
    "    \n",
    "    review = [lemmatize.lemmatize(word) for word in review if not word in stopwords.words('english')]\n",
    "    review = ' '.join(review)\n",
    "    corpus2.append(review)"
   ]
  },
  {
   "cell_type": "markdown",
   "id": "03084448",
   "metadata": {},
   "source": [
    "### Creating the Bag of Words model"
   ]
  },
  {
   "cell_type": "code",
   "execution_count": 75,
   "id": "ee654b43",
   "metadata": {},
   "outputs": [],
   "source": [
    "\n",
    "from sklearn.feature_extraction.text import CountVectorizer\n",
    "cv = CountVectorizer(max_features=2500)\n",
    "X = cv.fit_transform(corpus2).toarray()\n",
    "\n",
    "y=pd.get_dummies(df['label'])\n",
    "y=y.iloc[:,1].values"
   ]
  },
  {
   "cell_type": "markdown",
   "id": "a6604db3",
   "metadata": {},
   "source": [
    "splitting the dataset into train and test"
   ]
  },
  {
   "cell_type": "code",
   "execution_count": 76,
   "id": "e596e80b",
   "metadata": {},
   "outputs": [],
   "source": [
    "from sklearn.model_selection import train_test_split\n",
    "X_train, X_test, y_train, y_test = train_test_split(X, y, test_size = 0.20, random_state = 42)"
   ]
  },
  {
   "cell_type": "code",
   "execution_count": 77,
   "id": "b1c17279",
   "metadata": {},
   "outputs": [],
   "source": [
    "# Training model using Naive bayes classifier\n",
    "\n",
    "from sklearn.naive_bayes import MultinomialNB\n",
    "spam_detect_model = MultinomialNB().fit(X_train, y_train)"
   ]
  },
  {
   "cell_type": "code",
   "execution_count": 78,
   "id": "32087218",
   "metadata": {},
   "outputs": [],
   "source": [
    "y_pred=spam_detect_model.predict(X_test)"
   ]
  },
  {
   "cell_type": "code",
   "execution_count": 83,
   "id": "2ef80e7c",
   "metadata": {},
   "outputs": [
    {
     "name": "stdout",
     "output_type": "stream",
     "text": [
      "Accuracy: 0.984\n"
     ]
    }
   ],
   "source": [
    "# example of a majority class naive classifier\n",
    "from sklearn.metrics import accuracy_score\n",
    "accuracy = accuracy_score(y_test, y_pred)\n",
    "print('Accuracy: %.3f' % accuracy)"
   ]
  },
  {
   "cell_type": "markdown",
   "id": "4fc28805",
   "metadata": {},
   "source": [
    "we get accuracy of 98.4\n",
    "what we applied\n",
    "1. bag of words (to change the text to vector)\n",
    "2. naive baye's classifier to predict the ham and spam"
   ]
  },
  {
   "cell_type": "markdown",
   "id": "6b432ab9",
   "metadata": {},
   "source": [
    "let's apply TFIDF "
   ]
  },
  {
   "cell_type": "code",
   "execution_count": 84,
   "id": "c6bb006a",
   "metadata": {},
   "outputs": [],
   "source": [
    "from sklearn.feature_extraction.text import TfidfVectorizer\n",
    "tf=TfidfVectorizer()\n",
    "x=tf.fit_transform(corpus2).toarray()\n",
    "Y=pd.get_dummies(df['label'])\n",
    "Y=Y.iloc[:,1].values"
   ]
  },
  {
   "cell_type": "code",
   "execution_count": 86,
   "id": "eddc0a60",
   "metadata": {},
   "outputs": [],
   "source": [
    "from sklearn.model_selection import train_test_split\n",
    "x_train, x_test, Y_train, Y_test = train_test_split(x, Y, test_size = 0.20, random_state = 42)"
   ]
  },
  {
   "cell_type": "code",
   "execution_count": 87,
   "id": "015ab0f6",
   "metadata": {},
   "outputs": [],
   "source": [
    "# Training model using Naive bayes classifier\n",
    "\n",
    "from sklearn.naive_bayes import MultinomialNB\n",
    "spam_detect_model = MultinomialNB().fit(x_train, Y_train)"
   ]
  },
  {
   "cell_type": "code",
   "execution_count": 88,
   "id": "497c3e16",
   "metadata": {},
   "outputs": [],
   "source": [
    "Y_pred=spam_detect_model.predict(x_test)"
   ]
  },
  {
   "cell_type": "code",
   "execution_count": 89,
   "id": "d0d85663",
   "metadata": {},
   "outputs": [
    {
     "name": "stdout",
     "output_type": "stream",
     "text": [
      "Accuracy: 0.971\n"
     ]
    }
   ],
   "source": [
    "# example of a majority class naive classifier\n",
    "from sklearn.metrics import accuracy_score\n",
    "accuracy = accuracy_score(Y_test, Y_pred)\n",
    "print('Accuracy: %.3f' % accuracy)"
   ]
  },
  {
   "cell_type": "markdown",
   "id": "b0bcced3",
   "metadata": {},
   "source": [
    "after we apply TFIDF instead of bag of words \n",
    "1. the accuracy of the model degrade to 97.1"
   ]
  },
  {
   "cell_type": "code",
   "execution_count": 93,
   "id": "0d0c2068",
   "metadata": {},
   "outputs": [],
   "source": [
    "from sklearn.feature_extraction.text import TfidfVectorizer\n",
    "tf=TfidfVectorizer()\n",
    "x=tf.fit_transform(corpus).toarray()\n",
    "Y=pd.get_dummies(df['label'])\n",
    "Y=Y.iloc[:,1].values"
   ]
  },
  {
   "cell_type": "code",
   "execution_count": 94,
   "id": "65105012",
   "metadata": {},
   "outputs": [],
   "source": [
    "from sklearn.model_selection import train_test_split\n",
    "x_trai, x_tes, Y_trai, Y_tes = train_test_split(x, Y, test_size = 0.20, random_state = 42)"
   ]
  },
  {
   "cell_type": "code",
   "execution_count": 95,
   "id": "acc1ef79",
   "metadata": {},
   "outputs": [],
   "source": [
    "# Training model using Naive bayes classifier\n",
    "\n",
    "from sklearn.naive_bayes import MultinomialNB\n",
    "spam_detect_model = MultinomialNB().fit(x_trai, Y_trai)"
   ]
  },
  {
   "cell_type": "code",
   "execution_count": 96,
   "id": "572ef532",
   "metadata": {},
   "outputs": [],
   "source": [
    "Y_pre=spam_detect_model.predict(x_tes)"
   ]
  },
  {
   "cell_type": "code",
   "execution_count": 97,
   "id": "9dde042f",
   "metadata": {},
   "outputs": [
    {
     "name": "stdout",
     "output_type": "stream",
     "text": [
      "Accuracy: 0.970\n"
     ]
    }
   ],
   "source": [
    "# example of a majority class naive classifier\n",
    "from sklearn.metrics import accuracy_score\n",
    "accuracy = accuracy_score(Y_tes, Y_pre)\n",
    "print('Accuracy: %.3f' % accuracy)"
   ]
  },
  {
   "cell_type": "markdown",
   "id": "27b8ced0",
   "metadata": {},
   "source": [
    "after we apply\n",
    "1. stemming,\n",
    "2. TFIDF\n",
    "3. naive bayes classifier \n",
    "the accuracy of the model changed into 97"
   ]
  },
  {
   "cell_type": "code",
   "execution_count": 98,
   "id": "7a8a1cbf",
   "metadata": {},
   "outputs": [],
   "source": [
    "\n",
    "from sklearn.feature_extraction.text import CountVectorizer\n",
    "cv = CountVectorizer(max_features=2500)\n",
    "X = cv.fit_transform(corpus).toarray()\n",
    "\n",
    "y=pd.get_dummies(df['label'])\n",
    "y=y.iloc[:,1].values"
   ]
  },
  {
   "cell_type": "code",
   "execution_count": 103,
   "id": "b3bcb13b",
   "metadata": {},
   "outputs": [],
   "source": [
    "from sklearn.model_selection import train_test_split\n",
    "x_trai, x_tes, Y_trai, Y_tes = train_test_split(X, y, test_size = 0.20, random_state = 42)"
   ]
  },
  {
   "cell_type": "code",
   "execution_count": 104,
   "id": "a231a494",
   "metadata": {},
   "outputs": [],
   "source": [
    "# Training model using Naive bayes classifier\n",
    "\n",
    "from sklearn.naive_bayes import MultinomialNB\n",
    "spam_detect_model = MultinomialNB().fit(x_trai, Y_trai)"
   ]
  },
  {
   "cell_type": "code",
   "execution_count": 105,
   "id": "a2b16f45",
   "metadata": {},
   "outputs": [],
   "source": [
    "Y_pre=spam_detect_model.predict(x_tes)"
   ]
  },
  {
   "cell_type": "code",
   "execution_count": 106,
   "id": "6ec80476",
   "metadata": {},
   "outputs": [
    {
     "name": "stdout",
     "output_type": "stream",
     "text": [
      "Accuracy: 0.984\n"
     ]
    }
   ],
   "source": [
    "# example of a majority class naive classifier\n",
    "from sklearn.metrics import accuracy_score\n",
    "accuracy = accuracy_score(Y_tes, Y_pre)\n",
    "print('Accuracy: %.3f' % accuracy)"
   ]
  },
  {
   "cell_type": "markdown",
   "id": "b28e7000",
   "metadata": {},
   "source": [
    "after we use\n",
    "1. stemming\n",
    "2. bag of words\n",
    "3. naive bayes classifier\n",
    "the accuracy is now 98.4"
   ]
  },
  {
   "cell_type": "code",
   "execution_count": null,
   "id": "0b520907",
   "metadata": {},
   "outputs": [],
   "source": []
  }
 ],
 "metadata": {
  "kernelspec": {
   "display_name": "Python 3 (ipykernel)",
   "language": "python",
   "name": "python3"
  },
  "language_info": {
   "codemirror_mode": {
    "name": "ipython",
    "version": 3
   },
   "file_extension": ".py",
   "mimetype": "text/x-python",
   "name": "python",
   "nbconvert_exporter": "python",
   "pygments_lexer": "ipython3",
   "version": "3.9.7"
  }
 },
 "nbformat": 4,
 "nbformat_minor": 5
}
